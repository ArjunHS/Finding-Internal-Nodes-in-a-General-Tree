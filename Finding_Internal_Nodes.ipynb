{
 "cells": [
  {
   "cell_type": "markdown",
   "id": "2acc347a-dc5a-42d5-8b38-bf24652adc08",
   "metadata": {},
   "source": [
    "## Finding-Internal-Nodes-in-a-General-Tree"
   ]
  },
  {
   "cell_type": "code",
   "execution_count": 11,
   "id": "805718d2-fdb9-4182-ab2b-57df8def617c",
   "metadata": {},
   "outputs": [
    {
     "name": "stdout",
     "output_type": "stream",
     "text": [
      "Count of internal nodes is : 3\n"
     ]
    }
   ],
   "source": [
    "# Function to find count of Internal nodes of a general tree from a parent array\n",
    "# Time Complexity : O(n) \n",
    "\n",
    "def internal_nodes_count(tree):\n",
    "    if len(tree)==0:\n",
    "        print(\"Parent list is empty\")\n",
    "        return\n",
    "    else:\n",
    "        internal_nodes=[]\n",
    "        for i in tree:\n",
    "            if (i!= -1) and (i not in internal_nodes):\n",
    "                internal_nodes.append(i)\n",
    "        return print(f\"Count of internal nodes is : {len(internal_nodes)}\")\n",
    "\n",
    "# Enter the Parent Array\n",
    "my_tree = [4,4,1,5,-1,4,5]\n",
    "internal_nodes_count(my_tree) "
   ]
  }
 ],
 "metadata": {
  "kernelspec": {
   "display_name": "Python 3",
   "language": "python",
   "name": "python3"
  },
  "language_info": {
   "codemirror_mode": {
    "name": "ipython",
    "version": 3
   },
   "file_extension": ".py",
   "mimetype": "text/x-python",
   "name": "python",
   "nbconvert_exporter": "python",
   "pygments_lexer": "ipython3",
   "version": "3.8.10"
  }
 },
 "nbformat": 4,
 "nbformat_minor": 5
}
